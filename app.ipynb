{
 "cells": [
  {
   "cell_type": "code",
   "execution_count": 1,
   "id": "1a024eb8",
   "metadata": {},
   "outputs": [
    {
     "name": "stdout",
     "output_type": "stream",
     "text": [
      "Note: you may need to restart the kernel to use updated packages.\n"
     ]
    }
   ],
   "source": [
    "pip freeze > requirements.txt\n"
   ]
  },
  {
   "cell_type": "code",
   "execution_count": 3,
   "id": "d64f5d5e-3c20-4520-8119-b876b94d69a9",
   "metadata": {},
   "outputs": [],
   "source": [
    "from flask import Flask, request, jsonify\n",
    "from flask_sqlalchemy import SQLAlchemy\n",
    "import pandas as pd\n",
    "import numpy as np\n",
    "from datetime import datetime\n"
   ]
  },
  {
   "cell_type": "code",
   "execution_count": 4,
   "id": "fff2bf0a-c486-4921-86be-abdd8dd8db51",
   "metadata": {},
   "outputs": [],
   "source": [
    "app = Flask(__name__)\n",
    "app.config['SQLALCHEMY_DATABASE_URI'] = 'sqlite:///loan_calculator.db'\n",
    "db = SQLAlchemy(app)\n"
   ]
  },
  {
   "cell_type": "code",
   "execution_count": 5,
   "id": "855d6304-c41a-49c1-918d-89b201fc169d",
   "metadata": {},
   "outputs": [],
   "source": [
    "class User(db.Model):\n",
    "    id = db.Column(db.Integer, primary_key=True)\n",
    "    name = db.Column(db.String(80), nullable=False)\n",
    "    income = db.Column(db.Float, nullable=False)\n",
    "\n",
    "class Loan(db.Model):\n",
    "    id = db.Column(db.Integer, primary_key=True)\n",
    "    amount = db.Column(db.Float, nullable=False)\n",
    "    user_id = db.Column(db.Integer, db.ForeignKey('user.id'), nullable=False)\n",
    "    date_borrowed = db.Column(db.Date, nullable=False)\n"
   ]
  },
  {
   "cell_type": "code",
   "execution_count": 6,
   "id": "fb8d0f4e-af72-44c0-a104-17a2fbba8e2a",
   "metadata": {},
   "outputs": [],
   "source": [
    "with app.app_context():\n",
    "    db.create_all()\n"
   ]
  },
  {
   "cell_type": "code",
   "execution_count": 7,
   "id": "cf0e46f9-78cb-4e39-a357-2e3ec18e6113",
   "metadata": {},
   "outputs": [],
   "source": [
    "@app.route('/user', methods=['POST'])\n",
    "def add_user():\n",
    "    data = request.json\n",
    "    new_user = User(name=data['name'], income=data['income'])\n",
    "    db.session.add(new_user)\n",
    "    db.session.commit()\n",
    "    return jsonify({'message': 'User added successfully'}), 201\n"
   ]
  },
  {
   "cell_type": "code",
   "execution_count": 8,
   "id": "45ac5deb-fdec-4e75-b3c5-ac01c66fa328",
   "metadata": {},
   "outputs": [],
   "source": [
    "@app.route('/loan', methods=['POST'])\n",
    "def add_loan():\n",
    "    data = request.json\n",
    "    new_loan = Loan(amount=data['amount'], user_id=data['user_id'], date_borrowed=datetime.strptime(data['date_borrowed'], '%Y-%m-%d'))\n",
    "    db.session.add(new_loan)\n",
    "    db.session.commit()\n",
    "    return jsonify({'message': 'Loan added successfully'}), 201\n"
   ]
  },
  {
   "cell_type": "code",
   "execution_count": 9,
   "id": "0ef1b089-2db1-4c5c-8238-09c8ef030293",
   "metadata": {},
   "outputs": [],
   "source": [
    "@app.route('/total_borrowed', methods=['GET'])\n",
    "def total_borrowed():\n",
    "    total = db.session.query(db.func.sum(Loan.amount)).scalar()\n",
    "    return jsonify({'total_borrowed': total}), 200\n"
   ]
  },
  {
   "cell_type": "code",
   "execution_count": 10,
   "id": "c78876a2-2b8c-4169-a920-7bd273615ac7",
   "metadata": {},
   "outputs": [],
   "source": [
    "@app.route('/average_income', methods=['GET'])\n",
    "def average_income():\n",
    "    avg_income = db.session.query(db.func.avg(User.income)).scalar()\n",
    "    return jsonify({'average_income': avg_income}), 200\n"
   ]
  },
  {
   "cell_type": "code",
   "execution_count": 11,
   "id": "55b88438-5759-4ab7-92c7-926c21dfdfc6",
   "metadata": {},
   "outputs": [],
   "source": [
    "@app.route('/highest_earning_month', methods=['GET'])\n",
    "def highest_earning_month():\n",
    "    loans = db.session.query(Loan).all()\n",
    "    df = pd.DataFrame([(loan.amount, loan.date_borrowed) for loan in loans], columns=['amount', 'date_borrowed'])\n",
    "    df['year_month'] = df['date_borrowed'].apply(lambda x: x.strftime('%Y-%m'))\n",
    "    highest_month = df.groupby('year_month')['amount'].sum().idxmax()\n",
    "    return jsonify({'highest_earning_month': highest_month}), 200\n"
   ]
  },
  {
   "cell_type": "code",
   "execution_count": 12,
   "id": "87316f6e-e3a7-44e2-ad3e-b9367f86e2ec",
   "metadata": {},
   "outputs": [],
   "source": [
    "@app.route('/predicted_income', methods=['GET'])\n",
    "def predicted_income():\n",
    "    loans = db.session.query(Loan).all()\n",
    "    df = pd.DataFrame([(loan.amount, loan.date_borrowed) for loan in loans], columns=['amount', 'date_borrowed'])\n",
    "    df['date_borrowed'] = pd.to_datetime(df['date_borrowed'])\n",
    "    df.set_index('date_borrowed', inplace=True)\n",
    "    monthly_data = df.resample('M').sum()\n",
    "    \n",
    "    # Prepare data for regression model\n",
    "    monthly_data['month'] = monthly_data.index.month\n",
    "    monthly_data['year'] = monthly_data.index.year\n",
    "    X = monthly_data[['year', 'month']]\n",
    "    y = monthly_data['amount']\n",
    "    \n",
    "    from sklearn.linear_model import LinearRegression\n",
    "    model = LinearRegression()\n",
    "    model.fit(X, y)\n",
    "    \n",
    "    future_months = pd.date_range(start=df.index.max(), periods=3, freq='M')\n",
    "    future_data = pd.DataFrame({'year': future_months.year, 'month': future_months.month})\n",
    "    predictions = model.predict(future_data)\n",
    "    \n",
    "    return jsonify({'predicted_income': predictions.tolist()}), 200\n"
   ]
  },
  {
   "cell_type": "code",
   "execution_count": 13,
   "id": "58c6c1ca-d123-4300-8777-fc7ffb59de69",
   "metadata": {},
   "outputs": [
    {
     "name": "stdout",
     "output_type": "stream",
     "text": [
      " * Serving Flask app '__main__'\n",
      " * Debug mode: on\n"
     ]
    },
    {
     "name": "stderr",
     "output_type": "stream",
     "text": [
      "WARNING: This is a development server. Do not use it in a production deployment. Use a production WSGI server instead.\n",
      " * Running on http://127.0.0.1:5000\n",
      "Press CTRL+C to quit\n",
      " * Restarting with stat\n"
     ]
    },
    {
     "ename": "SystemExit",
     "evalue": "1",
     "output_type": "error",
     "traceback": [
      "An exception has occurred, use %tb to see the full traceback.\n",
      "\u001b[1;31mSystemExit\u001b[0m\u001b[1;31m:\u001b[0m 1\n"
     ]
    },
    {
     "name": "stderr",
     "output_type": "stream",
     "text": [
      "C:\\Users\\elich\\Documents\\Loan Calculator\\venv\\Lib\\site-packages\\IPython\\core\\interactiveshell.py:3585: UserWarning: To exit: use 'exit', 'quit', or Ctrl-D.\n",
      "  warn(\"To exit: use 'exit', 'quit', or Ctrl-D.\", stacklevel=1)\n"
     ]
    }
   ],
   "source": [
    "if __name__ == '__main__':\n",
    "    app.run(debug=True)\n"
   ]
  },
  {
   "cell_type": "code",
   "execution_count": null,
   "id": "c12aca4a-46f7-4a3b-b2bb-0d6c5c0bd4e5",
   "metadata": {},
   "outputs": [],
   "source": []
  }
 ],
 "metadata": {
  "kernelspec": {
   "display_name": "Python 3 (ipykernel)",
   "language": "python",
   "name": "python3"
  },
  "language_info": {
   "codemirror_mode": {
    "name": "ipython",
    "version": 3
   },
   "file_extension": ".py",
   "mimetype": "text/x-python",
   "name": "python",
   "nbconvert_exporter": "python",
   "pygments_lexer": "ipython3",
   "version": "3.12.1"
  }
 },
 "nbformat": 4,
 "nbformat_minor": 5
}
